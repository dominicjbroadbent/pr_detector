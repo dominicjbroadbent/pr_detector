{
 "cells": [
  {
   "cell_type": "code",
   "execution_count": 6,
   "id": "ec13988a-69e5-4289-8228-0cef30c97c1d",
   "metadata": {},
   "outputs": [],
   "source": [
    "import nltk, string, openpyxl\n",
    "import numpy as np\n",
    "import pandas as pd\n",
    "import matplotlib.pyplot as plt\n",
    "\n",
    "from sklearn.feature_extraction.text import TfidfVectorizer\n",
    "from tqdm.notebook import tqdm\n",
    "\n",
    "from blurb_sim import normalise, cosine_sim"
   ]
  },
  {
   "cell_type": "code",
   "execution_count": 14,
   "id": "bde100ee-51e1-466a-b8ab-3863183b8e8e",
   "metadata": {},
   "outputs": [
    {
     "data": {
      "text/plain": [
       "1.0"
      ]
     },
     "execution_count": 14,
     "metadata": {},
     "output_type": "execute_result"
    }
   ],
   "source": [
    "old_text = 'We want to connect you together, we love connecting, we wont rest until everyone is connected.'\n",
    "new_text = 'We want to connect you together, we love to connect you, we wont rest until we connect everyone'\n",
    "\n",
    "cosine_sim(old_text, new_text)"
   ]
  },
  {
   "cell_type": "code",
   "execution_count": 25,
   "id": "60a05ab2-1c39-48a8-a654-54532e2ce83a",
   "metadata": {},
   "outputs": [],
   "source": [
    "# Lemmatisation would help this a lot, or stemming but I had issues with this. Let's try lemmatising.\n",
    "from nltk.corpus import wordnet as wn\n",
    "from nltk.stem.wordnet import WordNetLemmatizer\n"
   ]
  },
  {
   "cell_type": "code",
   "execution_count": 26,
   "id": "61d177bf-c671-4985-bcfb-e29aa2bcd586",
   "metadata": {},
   "outputs": [],
   "source": [
    "wordnet_lemmatizer = WordNetLemmatizer()"
   ]
  },
  {
   "cell_type": "code",
   "execution_count": 27,
   "id": "a60609ea-d8b9-4e8a-862a-78cd15895cc2",
   "metadata": {},
   "outputs": [],
   "source": [
    "def wrapper(word):\n",
    "    lemmatised = wordnet_lemmatizer.lemmatize(word, pos = 'v')\n",
    "    return lemmatised"
   ]
  },
  {
   "cell_type": "code",
   "execution_count": 28,
   "id": "8e51fcd7-40c4-46fc-a6b9-358092c984b4",
   "metadata": {},
   "outputs": [],
   "source": [
    "lemmatised_old_text = [wrapper(word) for word in normalise(old_text)]\n",
    "lemmatised_new_text = [wrapper(word) for word in normalise(new_text)]"
   ]
  },
  {
   "cell_type": "code",
   "execution_count": 29,
   "id": "61b21cd4-3884-4faf-adae-b1331234368f",
   "metadata": {},
   "outputs": [
    {
     "data": {
      "text/plain": [
       "'we want to connect you together we love connect we wont rest until everyone be connect'"
      ]
     },
     "execution_count": 29,
     "metadata": {},
     "output_type": "execute_result"
    }
   ],
   "source": [
    "\" \".join(lemmatised_old_text)"
   ]
  },
  {
   "cell_type": "code",
   "execution_count": 30,
   "id": "b0f91838-c966-4786-9ee4-84223cc4f4fc",
   "metadata": {},
   "outputs": [
    {
     "data": {
      "text/plain": [
       "'we want to connect you together we love to connect you we wont rest until we connect everyone'"
      ]
     },
     "execution_count": 30,
     "metadata": {},
     "output_type": "execute_result"
    }
   ],
   "source": [
    "\" \".join(lemmatised_new_text)"
   ]
  },
  {
   "cell_type": "code",
   "execution_count": 31,
   "id": "b81219de-b8be-4f66-87a2-c760cf217e8b",
   "metadata": {},
   "outputs": [
    {
     "data": {
      "text/plain": [
       "1.0"
      ]
     },
     "execution_count": 31,
     "metadata": {},
     "output_type": "execute_result"
    }
   ],
   "source": [
    "cosine_sim(\" \".join(lemmatised_old_text), \" \".join(lemmatised_new_text))"
   ]
  },
  {
   "cell_type": "code",
   "execution_count": null,
   "id": "e03d3829-8fce-4b47-b626-6fff169cd4af",
   "metadata": {},
   "outputs": [],
   "source": []
  }
 ],
 "metadata": {
  "kernelspec": {
   "display_name": "Python 3 (ipykernel)",
   "language": "python",
   "name": "python3"
  },
  "language_info": {
   "codemirror_mode": {
    "name": "ipython",
    "version": 3
   },
   "file_extension": ".py",
   "mimetype": "text/x-python",
   "name": "python",
   "nbconvert_exporter": "python",
   "pygments_lexer": "ipython3",
   "version": "3.9.12"
  }
 },
 "nbformat": 4,
 "nbformat_minor": 5
}
