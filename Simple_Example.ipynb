{
 "cells": [
  {
   "cell_type": "code",
   "execution_count": 1,
   "id": "bb6baf45-abd0-482f-a051-8e2d73f31259",
   "metadata": {},
   "outputs": [],
   "source": [
    "from blurb_sim import similarity_subset"
   ]
  },
  {
   "cell_type": "code",
   "execution_count": 2,
   "id": "5ae61cfa-e9b9-40d0-a4fb-37c64f558c0b",
   "metadata": {},
   "outputs": [
    {
     "name": "stdout",
     "output_type": "stream",
     "text": [
      "Number of blurbs: 991\n",
      "Removed 558 identical blurbs...\n",
      "Computing similarities of remaining blurbs...\n"
     ]
    },
    {
     "data": {
      "application/vnd.jupyter.widget-view+json": {
       "model_id": "21def1d403634e2398c9653d25edfab1",
       "version_major": 2,
       "version_minor": 0
      },
      "text/plain": [
       "  0%|          | 0/433 [00:00<?, ?it/s]"
      ]
     },
     "metadata": {},
     "output_type": "display_data"
    },
    {
     "name": "stdout",
     "output_type": "stream",
     "text": [
      "Remaining number of blurbs: 206. Total reduction of 79.21%.\n",
      "Saving file to the path ../new_data.ods\n"
     ]
    }
   ],
   "source": [
    "# This function has all of the functionality within it, you just provide it with the file location of the data\n",
    "# and where you want to save the new data after analysis. The threshold for similarity can be changed, though the default\n",
    "# threshold of the function works well.\n",
    "similarity_subset(input_data_path = '../data.ods', output_data_path = '../new_data.ods')"
   ]
  },
  {
   "cell_type": "code",
   "execution_count": null,
   "id": "a6178e79-728e-4189-a2c3-5ec2254dadd8",
   "metadata": {},
   "outputs": [],
   "source": []
  }
 ],
 "metadata": {
  "kernelspec": {
   "display_name": "Python 3 (ipykernel)",
   "language": "python",
   "name": "python3"
  },
  "language_info": {
   "codemirror_mode": {
    "name": "ipython",
    "version": 3
   },
   "file_extension": ".py",
   "mimetype": "text/x-python",
   "name": "python",
   "nbconvert_exporter": "python",
   "pygments_lexer": "ipython3",
   "version": "3.9.12"
  }
 },
 "nbformat": 4,
 "nbformat_minor": 5
}
